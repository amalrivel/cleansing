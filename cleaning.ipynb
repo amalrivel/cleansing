{
 "cells": [
  {
   "cell_type": "code",
   "execution_count": 1,
   "metadata": {},
   "outputs": [],
   "source": [
    "import pandas as pd\n",
    "import re"
   ]
  },
  {
   "attachments": {},
   "cell_type": "markdown",
   "metadata": {},
   "source": [
    "###"
   ]
  },
  {
   "cell_type": "code",
   "execution_count": 20,
   "metadata": {},
   "outputs": [
    {
     "data": {
      "text/plain": [
       "0        - disaat semua cowok berusaha melacak perhatia...\n",
       "1        RT USER: USER siapa yang telat ngasih tau elu?...\n",
       "2        41. Kadang aku berfikir, kenapa aku tetap perc...\n",
       "3        USER USER AKU ITU AKU\\n\\nKU TAU MATAMU SIPIT T...\n",
       "4        USER USER Kaum cebong kapir udah keliatan dong...\n",
       "                               ...                        \n",
       "13164    USER jangan asal ngomong ndasmu. congor lu yg ...\n",
       "13165                         USER Kasur mana enak kunyuk'\n",
       "13166    USER Hati hati bisu :( .g\\n\\nlagi bosan huft \\...\n",
       "13167    USER USER USER USER Bom yang real mudah terdet...\n",
       "13168    USER Mana situ ngasih(\": itu cuma foto ya kuti...\n",
       "Name: Tweet, Length: 13169, dtype: object"
      ]
     },
     "execution_count": 20,
     "metadata": {},
     "output_type": "execute_result"
    }
   ],
   "source": [
    "df = pd.read_csv('dataset/data.csv', encoding='ISO-8859-1')\n",
    "# df['Tweet'].loc[13148]\n",
    "df.iloc[:, 0]"
   ]
  },
  {
   "cell_type": "code",
   "execution_count": 6,
   "metadata": {},
   "outputs": [],
   "source": [
    "# Selanjutnya berbagai jenis cleansing yang digunakan sebagai berikut\n",
    "def cleansing(sent):\n",
    "    # lowercase\n",
    "    string = str(sent).lower()\n",
    "    # Mengganti simbol %\n",
    "    string = string.replace('%', ' persen')\n",
    "    # Mengganti simbol #\n",
    "    string = string.replace('##', '')\n",
    "    string = string.replace('#', ' persen')\n",
    "\n",
    "    # Menghilangkan tanda baca\n",
    "    string = re.sub(r'[^a-zA-Z\\s]', '', string)\n",
    "    \n",
    "    return string"
   ]
  },
  {
   "cell_type": "code",
   "execution_count": 7,
   "metadata": {},
   "outputs": [],
   "source": [
    "df['Tweet'] = df['Tweet'].apply(lambda x: cleansing(x))"
   ]
  },
  {
   "cell_type": "code",
   "execution_count": 9,
   "metadata": {},
   "outputs": [
    {
     "data": {
      "text/plain": [
       "\"user biarkan buk biarkan.\\\\nkrn sesungguhnya singapur itu letaknya di cina. \\\\xf0\\\\x9f\\\\xa4\\\\xa3\\\\nmakanya pemerintah harus ikut campur urusan rumah. \\\\xf0\\\\x9f\\\\xa4\\\\x94'\""
      ]
     },
     "execution_count": 9,
     "metadata": {},
     "output_type": "execute_result"
    }
   ],
   "source": [
    "df['Tweet'].loc[13148]"
   ]
  },
  {
   "cell_type": "code",
   "execution_count": 10,
   "metadata": {},
   "outputs": [],
   "source": [
    "abusive = pd.read_csv('dataset/abusive.csv', encoding='ISO-8859-1')"
   ]
  },
  {
   "cell_type": "code",
   "execution_count": 11,
   "metadata": {},
   "outputs": [],
   "source": [
    "filterAbusive = abusive[\"ABUSIVE\"].tolist()"
   ]
  },
  {
   "cell_type": "code",
   "execution_count": 12,
   "metadata": {},
   "outputs": [],
   "source": [
    "def cleansingAbusive(teks):\n",
    "    teks_split = teks.split()\n",
    "    kata_bersih = [kata for kata in teks_split if kata not in filterAbusive]\n",
    "    teks_bersih = \" \".join(kata_bersih)\n",
    "    return teks_bersih"
   ]
  },
  {
   "cell_type": "code",
   "execution_count": 13,
   "metadata": {},
   "outputs": [],
   "source": [
    "df['Tweet'] = df['Tweet'].apply(lambda x: cleansingAbusive(x))"
   ]
  },
  {
   "cell_type": "code",
   "execution_count": 14,
   "metadata": {},
   "outputs": [
    {
     "data": {
      "text/plain": [
       "\"user biarkan buk biarkan.\\\\nkrn sesungguhnya singapur itu letaknya di cina. \\\\xf0\\\\x9f\\\\xa4\\\\xa3\\\\nmakanya pemerintah harus ikut campur urusan rumah. \\\\xf0\\\\x9f\\\\xa4\\\\x94'\""
      ]
     },
     "execution_count": 14,
     "metadata": {},
     "output_type": "execute_result"
    }
   ],
   "source": [
    "df['Tweet'].loc[13148]"
   ]
  },
  {
   "cell_type": "code",
   "execution_count": 17,
   "metadata": {},
   "outputs": [],
   "source": [
    "alay = pd.read_csv('dataset/new_kamusalay.csv', encoding='ISO-8859-1', header=None)"
   ]
  },
  {
   "cell_type": "code",
   "execution_count": 18,
   "metadata": {},
   "outputs": [],
   "source": [
    "header = ['alay_word', 'replacement_word']\n",
    "alay.columns = header\n",
    "# alay = pd.DataFrame(alay, columns=header)"
   ]
  },
  {
   "cell_type": "code",
   "execution_count": 19,
   "metadata": {},
   "outputs": [
    {
     "data": {
      "text/html": [
       "<div>\n",
       "<style scoped>\n",
       "    .dataframe tbody tr th:only-of-type {\n",
       "        vertical-align: middle;\n",
       "    }\n",
       "\n",
       "    .dataframe tbody tr th {\n",
       "        vertical-align: top;\n",
       "    }\n",
       "\n",
       "    .dataframe thead th {\n",
       "        text-align: right;\n",
       "    }\n",
       "</style>\n",
       "<table border=\"1\" class=\"dataframe\">\n",
       "  <thead>\n",
       "    <tr style=\"text-align: right;\">\n",
       "      <th></th>\n",
       "      <th>alay_word</th>\n",
       "      <th>replacement_word</th>\n",
       "    </tr>\n",
       "  </thead>\n",
       "  <tbody>\n",
       "    <tr>\n",
       "      <th>0</th>\n",
       "      <td>anakjakartaasikasik</td>\n",
       "      <td>anak jakarta asyik asyik</td>\n",
       "    </tr>\n",
       "    <tr>\n",
       "      <th>1</th>\n",
       "      <td>pakcikdahtua</td>\n",
       "      <td>pak cik sudah tua</td>\n",
       "    </tr>\n",
       "    <tr>\n",
       "      <th>2</th>\n",
       "      <td>pakcikmudalagi</td>\n",
       "      <td>pak cik muda lagi</td>\n",
       "    </tr>\n",
       "    <tr>\n",
       "      <th>3</th>\n",
       "      <td>t3tapjokowi</td>\n",
       "      <td>tetap jokowi</td>\n",
       "    </tr>\n",
       "    <tr>\n",
       "      <th>4</th>\n",
       "      <td>3x</td>\n",
       "      <td>tiga kali</td>\n",
       "    </tr>\n",
       "    <tr>\n",
       "      <th>...</th>\n",
       "      <td>...</td>\n",
       "      <td>...</td>\n",
       "    </tr>\n",
       "    <tr>\n",
       "      <th>15162</th>\n",
       "      <td>mendikbud</td>\n",
       "      <td>menteri pendidikan dan kebudayaan</td>\n",
       "    </tr>\n",
       "    <tr>\n",
       "      <th>15163</th>\n",
       "      <td>mendag</td>\n",
       "      <td>menteri perdagangan</td>\n",
       "    </tr>\n",
       "    <tr>\n",
       "      <th>15164</th>\n",
       "      <td>menaker</td>\n",
       "      <td>menteri tenaga kerja</td>\n",
       "    </tr>\n",
       "    <tr>\n",
       "      <th>15165</th>\n",
       "      <td>memetwit</td>\n",
       "      <td>mentwit</td>\n",
       "    </tr>\n",
       "    <tr>\n",
       "      <th>15166</th>\n",
       "      <td>megangin</td>\n",
       "      <td>memegang</td>\n",
       "    </tr>\n",
       "  </tbody>\n",
       "</table>\n",
       "<p>15167 rows × 2 columns</p>\n",
       "</div>"
      ],
      "text/plain": [
       "                 alay_word                   replacement_word\n",
       "0      anakjakartaasikasik           anak jakarta asyik asyik\n",
       "1             pakcikdahtua                  pak cik sudah tua\n",
       "2           pakcikmudalagi                  pak cik muda lagi\n",
       "3              t3tapjokowi                       tetap jokowi\n",
       "4                       3x                          tiga kali\n",
       "...                    ...                                ...\n",
       "15162            mendikbud  menteri pendidikan dan kebudayaan\n",
       "15163               mendag                menteri perdagangan\n",
       "15164              menaker               menteri tenaga kerja\n",
       "15165             memetwit                            mentwit\n",
       "15166             megangin                           memegang\n",
       "\n",
       "[15167 rows x 2 columns]"
      ]
     },
     "execution_count": 19,
     "metadata": {},
     "output_type": "execute_result"
    }
   ],
   "source": [
    "alay"
   ]
  },
  {
   "cell_type": "code",
   "execution_count": 20,
   "metadata": {},
   "outputs": [],
   "source": [
    "def replace_words(text, mapping):\n",
    "    text_split = text.split()\n",
    "    for index, row in mapping.iterrows():\n",
    "        for i in range(len(text_split)):\n",
    "            if text_split[i] == row['alay_word']:\n",
    "                text_split[i] = row['replacement_word']\n",
    "    return ' '.join(text_split)\n",
    "\n",
    "# def cleansingAbusive(teks):\n",
    "#     teks_split = teks.split()\n",
    "#     kata_bersih = [kata for kata in teks_split if kata not in filterAbusive]\n",
    "#     teks_bersih = \" \".join(kata_bersih)\n",
    "#     return teks_bersih"
   ]
  },
  {
   "cell_type": "code",
   "execution_count": 21,
   "metadata": {},
   "outputs": [
    {
     "data": {
      "text/plain": [
       "2149                     ini yangmembuat #2019t3tapjokowi\n",
       "2150    user memang selama jokowi jadi presiden banyak...\n",
       "Name: Tweet, dtype: object"
      ]
     },
     "execution_count": 21,
     "metadata": {},
     "output_type": "execute_result"
    }
   ],
   "source": [
    "df['Tweet'].loc[2149:2150]"
   ]
  },
  {
   "cell_type": "code",
   "execution_count": 22,
   "metadata": {},
   "outputs": [],
   "source": [
    "df['Tweet'] = df['Tweet'].loc[2149:2150].apply(lambda x: replace_words(x, alay))"
   ]
  },
  {
   "cell_type": "code",
   "execution_count": 23,
   "metadata": {},
   "outputs": [
    {
     "data": {
      "text/plain": [
       "2149                    ini yang membuat #2019t3tapjokowi\n",
       "2150    pengguna memang selama jokowi jadi presiden ba...\n",
       "Name: Tweet, dtype: object"
      ]
     },
     "execution_count": 23,
     "metadata": {},
     "output_type": "execute_result"
    }
   ],
   "source": [
    "df['Tweet'].loc[2149:2150]"
   ]
  },
  {
   "cell_type": "code",
   "execution_count": 24,
   "metadata": {},
   "outputs": [],
   "source": [
    "nama = input(\"kalimat nama Anda: \")\n",
    "nama = pd.DataFrame({nama})\n",
    "nama.columns = ['Tweet']\n"
   ]
  },
  {
   "cell_type": "code",
   "execution_count": 25,
   "metadata": {},
   "outputs": [],
   "source": [
    "nama['Tweet'] = nama['Tweet'].apply(lambda x: cleansing(x))\n",
    "nama['Tweet'] = nama['Tweet'].apply(lambda x: cleansingAbusive(x))\n",
    "nama['Tweet'] = nama['Tweet'].apply(lambda x: replace_words(x, alay))"
   ]
  },
  {
   "cell_type": "code",
   "execution_count": 26,
   "metadata": {},
   "outputs": [
    {
     "name": "stdout",
     "output_type": "stream",
     "text": [
      "  Tweet\n",
      "0   asd\n"
     ]
    }
   ],
   "source": [
    "print(nama)"
   ]
  }
 ],
 "metadata": {
  "kernelspec": {
   "display_name": "binar",
   "language": "python",
   "name": "python3"
  },
  "language_info": {
   "codemirror_mode": {
    "name": "ipython",
    "version": 3
   },
   "file_extension": ".py",
   "mimetype": "text/x-python",
   "name": "python",
   "nbconvert_exporter": "python",
   "pygments_lexer": "ipython3",
   "version": "3.8.16"
  },
  "orig_nbformat": 4
 },
 "nbformat": 4,
 "nbformat_minor": 2
}
