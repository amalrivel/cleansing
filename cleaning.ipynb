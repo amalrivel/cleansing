{
 "cells": [
  {
   "cell_type": "code",
   "execution_count": 42,
   "metadata": {},
   "outputs": [],
   "source": [
    "import pandas as pd\n",
    "import re\n",
    "from terbilang import Terbilang\n",
    "\n",
    "t = Terbilang()"
   ]
  },
  {
   "attachments": {},
   "cell_type": "markdown",
   "metadata": {},
   "source": [
    "###"
   ]
  },
  {
   "cell_type": "code",
   "execution_count": 43,
   "metadata": {},
   "outputs": [
    {
     "data": {
      "text/plain": [
       "0        - disaat semua cowok berusaha melacak perhatia...\n",
       "1        RT USER: USER siapa yang telat ngasih tau elu?...\n",
       "2        41. Kadang aku berfikir, kenapa aku tetap perc...\n",
       "3        USER USER AKU ITU AKU\\n\\nKU TAU MATAMU SIPIT T...\n",
       "4        USER USER Kaum cebong kapir udah keliatan dong...\n",
       "                               ...                        \n",
       "13164    USER jangan asal ngomong ndasmu. congor lu yg ...\n",
       "13165                         USER Kasur mana enak kunyuk'\n",
       "13166    USER Hati hati bisu :( .g\\n\\nlagi bosan huft \\...\n",
       "13167    USER USER USER USER Bom yang real mudah terdet...\n",
       "13168    USER Mana situ ngasih(\": itu cuma foto ya kuti...\n",
       "Name: Tweet, Length: 13169, dtype: object"
      ]
     },
     "execution_count": 43,
     "metadata": {},
     "output_type": "execute_result"
    }
   ],
   "source": [
    "df = pd.read_csv('dataset/data.csv', encoding='ISO-8859-1')\n",
    "df.iloc[:, 0]"
   ]
  },
  {
   "cell_type": "code",
   "execution_count": 44,
   "metadata": {},
   "outputs": [],
   "source": [
    "# Selanjutnya berbagai jenis cleansing yang digunakan sebagai berikut\n",
    "def cleansing(sent):\n",
    "    # Mengganti simbol %\n",
    "    string = sent.replace('%', ' persen')\n",
    "\n",
    "    # Mengganti simbol #\n",
    "    string = re.sub(r'[#]+', 'hashtag ', string)\n",
    "\n",
    "    # Menghapus karakter unicode\n",
    "    string = re.sub(r'[^\\x00-\\x7F]+', '', string)\n",
    "    \n",
    "    # Menghilangkan enter dan tab\n",
    "    string = re.sub(r'[\\n\\t]+', ' ', string)\n",
    "\n",
    "    # Menghilangkan simbol, dan tanda baca\n",
    "    string = re.sub(r'[^\\w\\d\\s]+', '', string)\n",
    "\n",
    "    # Mendeteksi dan mengganti angka menjadi kalimat bilangannya\n",
    "    teks_split = string.split()\n",
    "    kata_bersih = []\n",
    "    for kata in teks_split:\n",
    "        if kata.isdigit():\n",
    "            t.parse(kata)\n",
    "            kata_bersih.append(t.getresult())\n",
    "            continue\n",
    "        kata_bersih.append(kata)\n",
    "    teks_bersih = \" \".join(kata_bersih)\n",
    "\n",
    "    # Menjadikan huruf kecil\n",
    "    teks_bersih = str(teks_bersih).lower()\n",
    "    return teks_bersih"
   ]
  },
  {
   "cell_type": "code",
   "execution_count": 45,
   "metadata": {},
   "outputs": [],
   "source": [
    "df = df.iloc[:, 0].apply(lambda x: cleansing(x))"
   ]
  },
  {
   "cell_type": "code",
   "execution_count": 46,
   "metadata": {},
   "outputs": [
    {
     "data": {
      "text/plain": [
       "0        disaat semua cowok berusaha melacak perhatian ...\n",
       "1        rt user user siapa yang telat ngasih tau elued...\n",
       "2        empat puluh satu kadang aku berfikir kenapa ak...\n",
       "3        user user aku itu akunnku tau matamu sipit tap...\n",
       "4        user user kaum cebong kapir udah keliatan dong...\n",
       "                               ...                        \n",
       "13164    user jangan asal ngomong ndasmu congor lu yg s...\n",
       "13165                          user kasur mana enak kunyuk\n",
       "13166    user hati hati bisu gnnlagi bosan huft xf0x9fx...\n",
       "13167    user user user user bom yang real mudah terdet...\n",
       "13168    user mana situ ngasih itu cuma foto ya kutil onta\n",
       "Name: Tweet, Length: 13169, dtype: object"
      ]
     },
     "execution_count": 46,
     "metadata": {},
     "output_type": "execute_result"
    }
   ],
   "source": [
    "df"
   ]
  },
  {
   "cell_type": "code",
   "execution_count": 47,
   "metadata": {},
   "outputs": [],
   "source": [
    "abusive = pd.read_csv('dataset/abusive.csv', encoding='ISO-8859-1')"
   ]
  },
  {
   "cell_type": "code",
   "execution_count": 48,
   "metadata": {},
   "outputs": [
    {
     "data": {
      "text/plain": [
       "['alay',\n",
       " 'ampas',\n",
       " 'buta',\n",
       " 'keparat',\n",
       " 'anjing',\n",
       " 'anjir',\n",
       " 'babi',\n",
       " 'bacot',\n",
       " 'bajingan',\n",
       " 'banci',\n",
       " 'bandot',\n",
       " 'buaya',\n",
       " 'bangkai',\n",
       " 'bangsat',\n",
       " 'bego',\n",
       " 'bejat',\n",
       " 'bencong',\n",
       " 'berak',\n",
       " 'bisu',\n",
       " 'celeng',\n",
       " 'jancuk',\n",
       " 'bodoh',\n",
       " 'berengsek',\n",
       " 'budek',\n",
       " 'burik',\n",
       " 'jamban',\n",
       " 'cocot',\n",
       " 'congor',\n",
       " 'culun',\n",
       " 'cupu',\n",
       " 'dongok',\n",
       " 'dungu',\n",
       " 'edan',\n",
       " 'tai',\n",
       " 'ngewe',\n",
       " 'geblek',\n",
       " 'gembel',\n",
       " 'gila',\n",
       " 'goblok',\n",
       " 'iblis',\n",
       " 'idiot',\n",
       " 'jablay',\n",
       " 'jembud',\n",
       " 'jembut',\n",
       " 'jijik',\n",
       " 'kacrut',\n",
       " 'kafir',\n",
       " 'modar',\n",
       " 'kampang',\n",
       " 'kampret',\n",
       " 'kampungan',\n",
       " 'kimak',\n",
       " 'kontol',\n",
       " 'kunti',\n",
       " 'tuyul',\n",
       " 'kunyuk',\n",
       " 'mampus',\n",
       " 'memek',\n",
       " 'monyet',\n",
       " 'najis',\n",
       " 'nete',\n",
       " 'ngentot',\n",
       " 'noob',\n",
       " 'pecun',\n",
       " 'perek',\n",
       " 'sampah',\n",
       " 'sarap',\n",
       " 'setan',\n",
       " 'silit',\n",
       " 'bokong',\n",
       " 'sinting',\n",
       " 'sompret',\n",
       " 'sontoloyo',\n",
       " 'terkutuk',\n",
       " 'titit',\n",
       " 'pantat',\n",
       " 'tolol',\n",
       " 'udik',\n",
       " 'antek',\n",
       " 'asing',\n",
       " 'ateis',\n",
       " 'sitip',\n",
       " 'autis',\n",
       " 'picek',\n",
       " 'ayam kampus',\n",
       " 'bani kotak',\n",
       " 'bispak',\n",
       " 'bisyar',\n",
       " 'bokep',\n",
       " 'bong',\n",
       " 'cacat',\n",
       " 'cct',\n",
       " 'cebong',\n",
       " 'taplak',\n",
       " 'cungkring',\n",
       " 'gay',\n",
       " 'gembrot',\n",
       " 'gendut',\n",
       " 'hina',\n",
       " 'homo',\n",
       " 'komunis',\n",
       " 'koreng',\n",
       " 'krempeng',\n",
       " 'lengser',\n",
       " 'lesbi',\n",
       " 'lgbt',\n",
       " 'lonte',\n",
       " 'mucikari',\n",
       " 'munafik',\n",
       " 'ngaceng',\n",
       " 'nista',\n",
       " 'kejam',\n",
       " 'onta',\n",
       " 'panastak',\n",
       " 'panasbung',\n",
       " 'bani',\n",
       " 'pasukan nasi',\n",
       " 'porno',\n",
       " 'seks',\n",
       " 'rejim',\n",
       " 'rezim',\n",
       " 'sange',\n",
       " 'serbet',\n",
       " 'sipit',\n",
       " 'transgender']"
      ]
     },
     "execution_count": 48,
     "metadata": {},
     "output_type": "execute_result"
    }
   ],
   "source": [
    "filterAbusive = abusive[\"ABUSIVE\"].tolist()\n",
    "filterAbusive"
   ]
  },
  {
   "cell_type": "code",
   "execution_count": 49,
   "metadata": {},
   "outputs": [],
   "source": [
    "def cleansingAbusive(teks):\n",
    "    teks_split = teks.split()\n",
    "    kata_bersih = [kata for kata in teks_split if kata not in filterAbusive]\n",
    "    teks_bersih = \" \".join(kata_bersih)\n",
    "    return teks_bersih"
   ]
  },
  {
   "cell_type": "code",
   "execution_count": 50,
   "metadata": {},
   "outputs": [],
   "source": [
    "df = df.apply(lambda x: cleansingAbusive(x))"
   ]
  },
  {
   "cell_type": "code",
   "execution_count": 51,
   "metadata": {},
   "outputs": [
    {
     "data": {
      "text/plain": [
       "'user biarkan buk biarkannkrn sesungguhnya singapur itu letaknya di cina xf0x9fxa4xa3nmakanya pemerintah harus ikut campur urusan rumah xf0x9fxa4x94'"
      ]
     },
     "execution_count": 51,
     "metadata": {},
     "output_type": "execute_result"
    }
   ],
   "source": [
    "df.loc[13148]"
   ]
  },
  {
   "cell_type": "code",
   "execution_count": 52,
   "metadata": {},
   "outputs": [],
   "source": [
    "alay = pd.read_csv('dataset/new_kamusalay.csv', encoding='ISO-8859-1', header=None)"
   ]
  },
  {
   "cell_type": "code",
   "execution_count": 53,
   "metadata": {},
   "outputs": [],
   "source": [
    "header = ['alay_word', 'replacement_word']\n",
    "alay.columns = header\n",
    "# alay = pd.DataFrame(alay, columns=header)"
   ]
  },
  {
   "cell_type": "code",
   "execution_count": 54,
   "metadata": {},
   "outputs": [
    {
     "data": {
      "text/html": [
       "<div>\n",
       "<style scoped>\n",
       "    .dataframe tbody tr th:only-of-type {\n",
       "        vertical-align: middle;\n",
       "    }\n",
       "\n",
       "    .dataframe tbody tr th {\n",
       "        vertical-align: top;\n",
       "    }\n",
       "\n",
       "    .dataframe thead th {\n",
       "        text-align: right;\n",
       "    }\n",
       "</style>\n",
       "<table border=\"1\" class=\"dataframe\">\n",
       "  <thead>\n",
       "    <tr style=\"text-align: right;\">\n",
       "      <th></th>\n",
       "      <th>alay_word</th>\n",
       "      <th>replacement_word</th>\n",
       "    </tr>\n",
       "  </thead>\n",
       "  <tbody>\n",
       "    <tr>\n",
       "      <th>0</th>\n",
       "      <td>anakjakartaasikasik</td>\n",
       "      <td>anak jakarta asyik asyik</td>\n",
       "    </tr>\n",
       "    <tr>\n",
       "      <th>1</th>\n",
       "      <td>pakcikdahtua</td>\n",
       "      <td>pak cik sudah tua</td>\n",
       "    </tr>\n",
       "    <tr>\n",
       "      <th>2</th>\n",
       "      <td>pakcikmudalagi</td>\n",
       "      <td>pak cik muda lagi</td>\n",
       "    </tr>\n",
       "    <tr>\n",
       "      <th>3</th>\n",
       "      <td>t3tapjokowi</td>\n",
       "      <td>tetap jokowi</td>\n",
       "    </tr>\n",
       "    <tr>\n",
       "      <th>4</th>\n",
       "      <td>3x</td>\n",
       "      <td>tiga kali</td>\n",
       "    </tr>\n",
       "    <tr>\n",
       "      <th>...</th>\n",
       "      <td>...</td>\n",
       "      <td>...</td>\n",
       "    </tr>\n",
       "    <tr>\n",
       "      <th>15162</th>\n",
       "      <td>mendikbud</td>\n",
       "      <td>menteri pendidikan dan kebudayaan</td>\n",
       "    </tr>\n",
       "    <tr>\n",
       "      <th>15163</th>\n",
       "      <td>mendag</td>\n",
       "      <td>menteri perdagangan</td>\n",
       "    </tr>\n",
       "    <tr>\n",
       "      <th>15164</th>\n",
       "      <td>menaker</td>\n",
       "      <td>menteri tenaga kerja</td>\n",
       "    </tr>\n",
       "    <tr>\n",
       "      <th>15165</th>\n",
       "      <td>memetwit</td>\n",
       "      <td>mentwit</td>\n",
       "    </tr>\n",
       "    <tr>\n",
       "      <th>15166</th>\n",
       "      <td>megangin</td>\n",
       "      <td>memegang</td>\n",
       "    </tr>\n",
       "  </tbody>\n",
       "</table>\n",
       "<p>15167 rows × 2 columns</p>\n",
       "</div>"
      ],
      "text/plain": [
       "                 alay_word                   replacement_word\n",
       "0      anakjakartaasikasik           anak jakarta asyik asyik\n",
       "1             pakcikdahtua                  pak cik sudah tua\n",
       "2           pakcikmudalagi                  pak cik muda lagi\n",
       "3              t3tapjokowi                       tetap jokowi\n",
       "4                       3x                          tiga kali\n",
       "...                    ...                                ...\n",
       "15162            mendikbud  menteri pendidikan dan kebudayaan\n",
       "15163               mendag                menteri perdagangan\n",
       "15164              menaker               menteri tenaga kerja\n",
       "15165             memetwit                            mentwit\n",
       "15166             megangin                           memegang\n",
       "\n",
       "[15167 rows x 2 columns]"
      ]
     },
     "execution_count": 54,
     "metadata": {},
     "output_type": "execute_result"
    }
   ],
   "source": [
    "alay"
   ]
  },
  {
   "cell_type": "code",
   "execution_count": 55,
   "metadata": {},
   "outputs": [],
   "source": [
    "def replace_words(text, mapping):\n",
    "    text_split = text.split()\n",
    "    for index, row in mapping.iterrows():\n",
    "        for i in range(len(text_split)):\n",
    "            if text_split[i] == row['alay_word']:\n",
    "                text_split[i] = row['replacement_word']\n",
    "    return ' '.join(text_split)\n",
    "\n",
    "# def cleansingAbusive(teks):\n",
    "#     teks_split = teks.split()\n",
    "#     kata_bersih = [kata for kata in teks_split if kata not in filterAbusive]\n",
    "#     teks_bersih = \" \".join(kata_bersih)\n",
    "#     return teks_bersih"
   ]
  },
  {
   "cell_type": "code",
   "execution_count": 56,
   "metadata": {},
   "outputs": [
    {
     "data": {
      "text/plain": [
       "2149              ini yangmembuat hashtag 2019t3tapjokowi\n",
       "2150    user memang selama jokowi jadi presiden banyak...\n",
       "Name: Tweet, dtype: object"
      ]
     },
     "execution_count": 56,
     "metadata": {},
     "output_type": "execute_result"
    }
   ],
   "source": [
    "df.loc[2149:2150]"
   ]
  },
  {
   "cell_type": "code",
   "execution_count": 57,
   "metadata": {},
   "outputs": [],
   "source": [
    "df = df.loc[2149:2150].apply(lambda x: replace_words(x, alay))"
   ]
  },
  {
   "cell_type": "code",
   "execution_count": 58,
   "metadata": {},
   "outputs": [
    {
     "data": {
      "text/plain": [
       "2149             ini yang membuat tagar 2019 tetap jokowi\n",
       "2150    pengguna memang selama jokowi jadi presiden ba...\n",
       "Name: Tweet, dtype: object"
      ]
     },
     "execution_count": 58,
     "metadata": {},
     "output_type": "execute_result"
    }
   ],
   "source": [
    "df.loc[2149:2150]"
   ]
  },
  {
   "cell_type": "code",
   "execution_count": 59,
   "metadata": {},
   "outputs": [],
   "source": [
    "# nama = input(\"kalimat nama Anda: \")\n",
    "# nama = pd.DataFrame({nama})\n",
    "# nama.columns = ['Tweet']\n"
   ]
  },
  {
   "cell_type": "code",
   "execution_count": 60,
   "metadata": {},
   "outputs": [],
   "source": [
    "# nama['Tweet'] = nama['Tweet'].apply(lambda x: cleansing(x))\n",
    "# nama['Tweet'] = nama['Tweet'].apply(lambda x: cleansingAbusive(x))\n",
    "# nama['Tweet'] = nama['Tweet'].apply(lambda x: replace_words(x, alay))"
   ]
  },
  {
   "cell_type": "code",
   "execution_count": 61,
   "metadata": {},
   "outputs": [],
   "source": [
    "# print(nama)"
   ]
  }
 ],
 "metadata": {
  "kernelspec": {
   "display_name": "binar",
   "language": "python",
   "name": "python3"
  },
  "language_info": {
   "codemirror_mode": {
    "name": "ipython",
    "version": 3
   },
   "file_extension": ".py",
   "mimetype": "text/x-python",
   "name": "python",
   "nbconvert_exporter": "python",
   "pygments_lexer": "ipython3",
   "version": "3.8.16"
  },
  "orig_nbformat": 4
 },
 "nbformat": 4,
 "nbformat_minor": 2
}
